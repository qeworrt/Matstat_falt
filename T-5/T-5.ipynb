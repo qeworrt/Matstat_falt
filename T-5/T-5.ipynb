{
 "cells": [
  {
   "cell_type": "code",
   "execution_count": 3,
   "metadata": {},
   "outputs": [],
   "source": [
    "import numpy as np\n",
    "import matplotlib.pyplot as plt"
   ]
  },
  {
   "cell_type": "code",
   "execution_count": 4,
   "metadata": {},
   "outputs": [],
   "source": [
    "N = 100\n",
    "tetha = 5\n",
    "X = np.random.randint(tetha, 2 * tetha, N)\n",
    "tetha_OMM = 2 / 3 * (np.sum(X) / N)"
   ]
  },
  {
   "cell_type": "markdown",
   "metadata": {},
   "source": [
    "## Точный метод"
   ]
  },
  {
   "cell_type": "code",
   "execution_count": 5,
   "metadata": {},
   "outputs": [
    {
     "name": "stdout",
     "output_type": "stream",
     "text": [
      "Интервал (точный метод):  [ 4.500569650676604 , 4.582990376938695 ]\n",
      "Размах =  0.08242072626209129\n"
     ]
    }
   ],
   "source": [
    "a = 0.05\n",
    "\n",
    "left0 = np.max(X) / (1 + (1 - a / 2) ** (1 / N))\n",
    "right0 = np.max(X) / (1 + (a / 2) ** (1 / N))\n",
    "print(\"Интервал (точный метод): \", \"[\", left0, ',', right0, ']')\n",
    "print(\"Размах = \", right0 - left0)"
   ]
  },
  {
   "cell_type": "markdown",
   "metadata": {},
   "source": [
    "## Асимпотический"
   ]
  },
  {
   "cell_type": "code",
   "execution_count": 6,
   "metadata": {},
   "outputs": [
    {
     "name": "stdout",
     "output_type": "stream",
     "text": [
      "Асимптотический интервал: (4.585567319575717, 4.934432680424282)\n",
      "Размах = 0.34886536084856523\n"
     ]
    }
   ],
   "source": [
    "XX = X ** 2\n",
    "left1 = -1.95 * (2 / 3) / 10 * np.sqrt(0.01 * np.sum(XX) - (0.01 * np.sum(X)) ** 2) + tetha_OMM\n",
    "right1 = 1.95 * (2 / 3) / 10 * np.sqrt(0.01 * np.sum(XX) - (0.01 * np.sum(X)) ** 2) + tetha_OMM\n",
    "print(f\"Асимптотический интервал: ({left1}, {right1})\")\n",
    "print(f\"Размах = {right1 - left1}\")"
   ]
  },
  {
   "cell_type": "markdown",
   "metadata": {},
   "source": [
    "## Бутстрап"
   ]
  },
  {
   "cell_type": "code",
   "execution_count": 7,
   "metadata": {},
   "outputs": [
    {
     "name": "stdout",
     "output_type": "stream",
     "text": [
      "Бутстраповский интервал: [ 4.593333333333333 ,  4.926666666666666 ]\n",
      "Размах =  0.33333333333333304\n"
     ]
    }
   ],
   "source": [
    "M = np.array([])\n",
    "for i in range(1000):\n",
    "    M = np.append(M, 2 / 3 * np.mean(np.random.choice(X, size = len(X))) - 2 / 3 * np.mean(X))\n",
    "\n",
    "M = np.sort(M)\n",
    "\n",
    "left2 = 2 / 3 * np.mean(X) + M[24]\n",
    "right2 = 2 / 3 * np.mean(X) + M[974]\n",
    "\n",
    "print(\"Бутстраповский интервал: [\", left2, ', ', right2, ']')\n",
    "print(\"Размах = \", right2 - left2)"
   ]
  },
  {
   "cell_type": "code",
   "execution_count": 8,
   "metadata": {},
   "outputs": [
    {
     "data": {
      "image/png": "[encoded data removed]",
      "text/plain": [
       "<Figure size 640x480 with 1 Axes>"
      ]
     },
     "metadata": {},
     "output_type": "display_data"
    }
   ],
   "source": [
    "x1 = np.linspace(left0, right0, 100)\n",
    "y1 = [1] * 100\n",
    "\n",
    "x2 = np.linspace(left1, right1, 100)\n",
    "y2 = [2] * 100\n",
    "\n",
    "x3 = np.linspace(left2, right2, 100)\n",
    "y3 = [3] * 100\n",
    "\n",
    "plt.plot(x1, y1)\n",
    "plt.plot(x2, y2)\n",
    "plt.plot(x3, y3)\n",
    "\n",
    "plt.legend([\"Точный\", \"Асимптотический\", \"Бутстрап\"])\n",
    "\n",
    "plt.show()"
   ]
  }
 ],
 "metadata": {
  "kernelspec": {
   "display_name": "venv",
   "language": "python",
   "name": "python3"
  },
  "language_info": {
   "codemirror_mode": {
    "name": "ipython",
    "version": 3
   },
   "file_extension": ".py",
   "mimetype": "text/x-python",
   "name": "python",
   "nbconvert_exporter": "python",
   "pygments_lexer": "ipython3",
   "version": "3.10.12"
  }
 },
 "nbformat": 4,
 "nbformat_minor": 2
}
