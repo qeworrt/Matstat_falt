{
 "cells": [
  {
   "cell_type": "code",
   "execution_count": 6,
   "metadata": {},
   "outputs": [],
   "source": [
    "import numpy as np\n",
    "import math"
   ]
  },
  {
   "cell_type": "code",
   "execution_count": 7,
   "metadata": {},
   "outputs": [
    {
     "name": "stdout",
     "output_type": "stream",
     "text": [
      "Delta = 1.4\n"
     ]
    }
   ],
   "source": [
    "n = 100\n",
    "N = 10000\n",
    "\n",
    "arr = np.array([5, 8, 6, 12, 14, 18, 11, 6, 13, 7])\n",
    "numbers = np.array([1 for i in range(10)])\n",
    "\n",
    "def emperic_F(data, n):\n",
    "    result = np.array([sum(data[:i]) for i in range(len(data)+1)]) / n\n",
    "    return result\n",
    "\n",
    "def theory_F(data, n):\n",
    "    result = np.array([sum(data[:i]) for i in range(len(data))]) / n\n",
    "    return result\n",
    "\n",
    "empF = emperic_F(arr, n)\n",
    "theoF = theory_F(numbers, 10)\n",
    "\n",
    "D = round(np.max([np.sqrt(n) * max(np.abs(theoF[i] - empF[i]),np.abs(theoF[i] - empF[i+1])) for i in range(empF.size - 1)]), 5)\n",
    "\n",
    "print(f\"Delta = {D}\")"
   ]
  },
  {
   "cell_type": "code",
   "execution_count": 8,
   "metadata": {},
   "outputs": [
    {
     "name": "stdout",
     "output_type": "stream",
     "text": [
      "p-value = 0.03968\n"
     ]
    }
   ],
   "source": [
    "def kolmogor_sum(x, N):\n",
    "    sum=1\n",
    "    for i in range(1, N):\n",
    "        sum += 2 * (-1) ** i * np.exp(-2*(i**2)*(x**2))\n",
    "    return sum\n",
    "\n",
    "p_value = round(1-kolmogor_sum(D, N), 5)\n",
    "print(f\"p-value = {p_value}\")"
   ]
  },
  {
   "cell_type": "markdown",
   "metadata": {},
   "source": [
    "# p_value < Altha => отвергаем гипотезу $H_0$ \n",
    "# Вывод: Критерий хи-квадрат показал, что нет поводов отвергать, метод Колмогорова показал, что необходимо отвергать, значит отвергаем"
   ]
  },
  {
   "cell_type": "code",
   "execution_count": 9,
   "metadata": {},
   "outputs": [
    {
     "name": "stdout",
     "output_type": "stream",
     "text": [
      "p-value = 0.0157\n"
     ]
    }
   ],
   "source": [
    "def normal_distr(x, mean, sigma):\n",
    "    return 0.5 * (1 + math.erf((x - mean)/(np.sqrt(2) * sigma)))\n",
    "\n",
    "def get_delta_arr(mean, sigma, N, n):\n",
    "    delta_arr  = list()\n",
    "    for i in range(N):\n",
    "\n",
    "        sample = np.random.normal(mean, sigma, n)\n",
    "        sorted_sample = sorted(sample)\n",
    "\n",
    "        bootstrap_empF = [i / n for i in range(n + 1)]\n",
    "        bootstrap_mean = np.mean(sample)\n",
    "        bootstrap_sigma = np.std(sample) * n /(n - 1)\n",
    "\n",
    "        delta_arr.append(np.max([np.sqrt(n) * max(np.abs(normal_distr(sorted_sample[j], bootstrap_mean, bootstrap_sigma) - bootstrap_empF[j]), \\\n",
    "                                     np.abs(normal_distr(sorted_sample[j], bootstrap_mean, bootstrap_sigma) - bootstrap_empF[j+1])) \\\n",
    "                                        for j in range(len(sorted_sample))]))\n",
    "        \n",
    "    delta_arr = np.array(delta_arr)\n",
    "    return delta_arr\n",
    "\n",
    "\n",
    "N = 10000 #количество итераций\n",
    "n = 100 #размер выборки\n",
    "\n",
    "mean = 0\n",
    "for i in range(len(arr)):\n",
    "    mean += (arr[i]/n)*i\n",
    "\n",
    "disp = 0\n",
    "\n",
    "for i in range(len(arr)):\n",
    "    disp += arr[i]*(i - mean)**2 / (n - 1)\n",
    "\n",
    "sigma = np.sqrt(disp)\n",
    "\n",
    "x = [i for i in range(10)]\n",
    "\n",
    "#Дельта с волной:\n",
    "D0 = np.max([np.sqrt(n) * max(np.abs(normal_distr(x[i], mean, sigma) - empF[i]),np.abs(normal_distr(x[i], mean, sigma) - empF[i+1])) for i in range(10)])\n",
    "\n",
    "delta_arr = get_delta_arr(mean, sigma, N, n)\n",
    "p_val = len(delta_arr[delta_arr >= D0]) / N\n",
    "print(f\"p-value = {p_val}\")"
   ]
  },
  {
   "cell_type": "markdown",
   "metadata": {},
   "source": [
    "### p_value < Altha => отвергаем гипотезу $H_0$\n",
    "### Вывод: Критерий хи-квадрат и критерий Колмогорова отвергли гипотезу $H_0$"
   ]
  }
 ],
 "metadata": {
  "kernelspec": {
   "display_name": "venv",
   "language": "python",
   "name": "python3"
  },
  "language_info": {
   "codemirror_mode": {
    "name": "ipython",
    "version": 3
   },
   "file_extension": ".py",
   "mimetype": "text/x-python",
   "name": "python",
   "nbconvert_exporter": "python",
   "pygments_lexer": "ipython3",
   "version": "3.10.12"
  }
 },
 "nbformat": 4,
 "nbformat_minor": 2
}
